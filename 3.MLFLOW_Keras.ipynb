{
 "cells": [
  {
   "cell_type": "code",
   "execution_count": null,
   "metadata": {},
   "outputs": [],
   "source": [
    "import matplotlib.pyplot as plt\n",
    "from keras.models import Sequential\n",
    "from keras.layers import Dense, Dropout\n",
    "from keras.utils import np_utils\n",
    "import numpy as np\n",
    "from sklearn.metrics import confusion_matrix\n",
    "from keras.datasets import mnist\n",
    "import mlflow\n",
    "import mlflow.tensorflow"
   ]
  },
  {
   "cell_type": "code",
   "execution_count": null,
   "metadata": {},
   "outputs": [],
   "source": [
    "(X_treinamento, y_treinamento),(X_teste, y_teste) = mnist.load_data()\n",
    "plt.imshow(X_treinamento[29],cmap='gray')\n",
    "plt.title(y_treinamento[29])"
   ]
  },
  {
   "cell_type": "code",
   "execution_count": null,
   "metadata": {},
   "outputs": [],
   "source": [
    "X_treinamento = X_treinamento.reshape((len(X_treinamento), np.prod(X_treinamento.shape[1:])))\n",
    "X_teste = X_teste.reshape((len(X_teste), np.prod(X_teste.shape[1:])))"
   ]
  },
  {
   "cell_type": "code",
   "execution_count": null,
   "metadata": {},
   "outputs": [],
   "source": [
    "X_teste[0]"
   ]
  },
  {
   "cell_type": "code",
   "execution_count": null,
   "metadata": {},
   "outputs": [],
   "source": [
    "X_treinamento = X_treinamento.astype('float32')\n",
    "X_teste = X_teste.astype('float32')\n",
    "X_treinamento /= 255\n",
    "X_teste /= 255"
   ]
  },
  {
   "cell_type": "code",
   "execution_count": null,
   "metadata": {},
   "outputs": [],
   "source": [
    "y_treinamento = np_utils.to_categorical(y_treinamento,10)\n",
    "y_teste = np_utils.to_categorical(y_teste,10)"
   ]
  },
  {
   "cell_type": "code",
   "execution_count": null,
   "metadata": {},
   "outputs": [],
   "source": [
    "y_teste[0]"
   ]
  },
  {
   "cell_type": "code",
   "execution_count": null,
   "metadata": {},
   "outputs": [],
   "source": [
    "def treina_dl(n_camadas_ocultas,n_units,activation,drop_out, epochs):\n",
    "    mlflow.set_experiment(\"DLExperimento\")\n",
    "    \n",
    "    with mlflow.start_run():\n",
    "        mlflow.tensorflow.autolog()\n",
    "        \n",
    "        #registro de tags\n",
    "        mlflow.set_tag(\"n_camadas_ocultas\",n_camadas_ocultas)\n",
    "        mlflow.set_tag(\"n_units\",n_units)\n",
    "        mlflow.set_tag(\"activation\",activation)\n",
    "        mlflow.set_tag(\"drop_out\",drop_out)\n",
    "        mlflow.set_tag(\"epochs\",epochs)\n",
    "\n",
    "    \n",
    "        modelo = Sequential()\n",
    "        \n",
    "        #cria camada oculta mais camada de entrada\n",
    "        modelo.add(Dense(units=n_units, activation=activation, input_dim=784))\n",
    "        modelo.add(Dropout(drop_out))\n",
    "        \n",
    "        #camadas ocultas adicionais, com drop out\n",
    "        for n in range(n_camadas_ocultas):\n",
    "            modelo.add(Dense(units=n_units, activation=activation))\n",
    "            modelo.add(Dropout(drop_out))            \n",
    "        \n",
    "        #camada de saída\n",
    "        modelo.add(Dense(units=10,activation='softmax'))\n",
    "        \n",
    "        modelo.compile(optimizer='adam', loss=\"categorical_crossentropy\",metrics=['accuracy'])\n",
    "        \n",
    "        modelo.summary()\n",
    "        \n",
    "        historico = modelo.fit(X_treinamento, y_treinamento, epochs =epochs, \n",
    "                              validation_data=(X_teste,y_teste))\n",
    "        \n",
    "        #grafico para erros e acuracia\n",
    "        historico.history.keys()\n",
    "        loss = plt.plot(historico.history['val_loss'])\n",
    "        plt.savefig(\"loss.png\")\n",
    "        acuracia = plt.plot(historico.history['val_accuracy'])\n",
    "        plt.savefig(\"acuracia.png\")\n",
    "        \n",
    "        #registrar artefatos\n",
    "        mlflow.log_artifact(\"loss.png\")\n",
    "        mlflow.log_artifact(\"acuracia.png\")\n",
    "       \n",
    "        #informações de execução\n",
    "        print(\"Modelo: \", mlflow.active_run().info.run_uuid)  \n",
    "    mlflow.end_run()           \n",
    "        "
   ]
  },
  {
   "cell_type": "code",
   "execution_count": null,
   "metadata": {},
   "outputs": [],
   "source": [
    "n_camadas_ocultas = [1,2,3]\n",
    "n_units = [16,32,64]\n",
    "activation = ['relu','tanh']\n",
    "drop_out = [0.1, 0.2]\n",
    "epochs = [5,10,20]\n",
    "\n",
    "for camadas in n_camadas_ocultas:\n",
    "    for unidades in n_units:\n",
    "        for ativacao in activation:\n",
    "            for drop in drop_out:\n",
    "                for epocas in epochs:\n",
    "                    treina_dl(camadas,unidades,ativacao, drop, epocas)"
   ]
  },
  {
   "cell_type": "code",
   "execution_count": null,
   "metadata": {},
   "outputs": [],
   "source": []
  }
 ],
 "metadata": {
  "kernelspec": {
   "display_name": "Python 3",
   "language": "python",
   "name": "python3"
  },
  "language_info": {
   "codemirror_mode": {
    "name": "ipython",
    "version": 3
   },
   "file_extension": ".py",
   "mimetype": "text/x-python",
   "name": "python",
   "nbconvert_exporter": "python",
   "pygments_lexer": "ipython3",
   "version": "3.8.5"
  }
 },
 "nbformat": 4,
 "nbformat_minor": 4
}
